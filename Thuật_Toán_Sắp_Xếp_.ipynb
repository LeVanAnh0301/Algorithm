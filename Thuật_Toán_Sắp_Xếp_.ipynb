{
  "nbformat": 4,
  "nbformat_minor": 0,
  "metadata": {
    "colab": {
      "name": "Thuật Toán Sắp Xếp .ipynb",
      "provenance": [],
      "collapsed_sections": []
    },
    "kernelspec": {
      "name": "python3",
      "display_name": "Python 3"
    },
    "language_info": {
      "name": "python"
    }
  },
  "cells": [
    {
      "cell_type": "markdown",
      "source": [
        "\n",
        "# 1. Selection Sort\n",
        "**Cách tiếp cận**:  \n",
        "Selection Sort sử dụng cách tiếp cận đơn giản nhất:\n",
        "- Tìm phần tử nhỏ nhất và chuyển lên đầu dãy.\n",
        "- Sau đó, tiếp tục tìm phần tử nhỏ nhất trong phần còn lại của dãy và chuyển lên vị trí thứ hai.\n",
        "- Tiếp tục như vậy đến khi hết dãy. \n",
        "**Cách hoạt động**:  \n",
        "- Thuật toán Selection Sort chia danh sách cần sắp xếp thành 2 phần: đã được sắp xếp (nằm bên trái) và chưa được sắp xếp (bên phải).\n",
        "- Ở mỗi lần lặp, thuật toán tìm phần tử nhỏ nhất của phần chưa sắp xếp để đưa vào cuối phần đã sắp xếp.  \n",
        "\n",
        "**Độ phức tạp thời gian**:\n",
        "- Thuật toán tìm min *n-1* lần. Lần thứ nhất tìm trên dãy có *n* phần tử, lần thứ hai trên *n-1* phần tử, lần thứ ba trên *n-2* phần tử,...  \n",
        "- Bỏ qua các lệnh gán và swap (do mỗi lệnh có độ phức tạp *O(1)*), ta có thể tính xấp xỉ số câu lệnh thuật toán cần thực hiện là: \\begin{equation} n + (n-1) + (n-2) + ... + 3 + 2 = \\frac{(n+2)(n-1)}{2} = \\frac{n^2+n-2}{2} \\end{equation}\n",
        "- Do đó, thuật toán Selection Sort có độ phức tạp về thời gian là *O(n<sup>2</sup>)*  \n",
        "\n",
        "**Độ phức tạp không gian**:\n",
        "- Thuật toán có độ phức tạp về không gian là *O(n)* để lưu trữ danh sách cần sắp xếp."
      ],
      "metadata": {
        "id": "9zA_a967IDQR"
      }
    },
    {
      "cell_type": "code",
      "source": [
        "# Đoan code này để taoh một hàm trừu tượng hóa đồ thị với thư viện matplotlib \n",
        "import matplotlib.pyplot as plt\n",
        "\n",
        "def show_list(arr, title=''):\n",
        "  #Khai báo 2 thành phần sau : fig \n",
        "    fig, ax = plt.subplots(figsize=(20, 4))\n",
        "    #plt.subplots()là một hàm trả về một bộ giá trị chứa (các) đối tượng hình và trục.\n",
        "    ax.bar(range(len(arr)), arr)\n",
        "    ax.set_title(title)\n",
        "    ax.set_xlabel('index')\n",
        "    ax.set_xticks(range(len(arr)))\n",
        "    ax.spines['top'].set_visible(False)\n",
        "    ax.spines['right'].set_visible(False)\n",
        " \n",
        "    plt.show()"
      ],
      "metadata": {
        "id": "c96uK0F9b_bX"
      },
      "execution_count": 31,
      "outputs": []
    },
    {
      "cell_type": "code",
      "source": [
        "# Hàm tìm chỉ số  phần tử min ( sắp xếp các phần tử để đưa phần tử min đó lên đầu dãy)\n",
        "def find_min(data_list, from_index):\n",
        "    min_ind = from_index\n",
        "    for i in range(from_index+1, len(data_list)):\n",
        "        if data_list[i] < data_list[min_ind]:\n",
        "            min_ind = i\n",
        "    return min_ind\n",
        "\n",
        "\n",
        "def selection_sort(data_list):\n",
        "    for i in range(len(data_list)-1):\n",
        "        min_ind = find_min(data_list, i)  # lấy index min \n",
        "        if min_ind != i:                  # Đổi vị trí 2 phần tử liền kề nếu thõa mãn điều kiện \n",
        "            data_list[i], data_list[min_ind] = data_list[min_ind], data_list[i]"
      ],
      "metadata": {
        "id": "-6Wbc7AYfH3S"
      },
      "execution_count": 23,
      "outputs": []
    },
    {
      "cell_type": "code",
      "source": [
        "num_list=[1,6,3,4,5,11,24,33,88,36,44,55,78]\n",
        "\n",
        "selection_sort(num_list)\n",
        "\n",
        "\n",
        "print(\"Sau khi sắp xếp:  {}\".format(num_list))\n",
        "show_list(num_list, title='Dãy sau sắp xếp')"
      ],
      "metadata": {
        "id": "3FfJ5KY9taUe",
        "colab": {
          "base_uri": "https://localhost:8080/",
          "height": 313
        },
        "outputId": "0d8bf811-c3dc-49c2-ad2f-538dba47ae67"
      },
      "execution_count": 24,
      "outputs": [
        {
          "output_type": "stream",
          "name": "stdout",
          "text": [
            "Sau khi sắp xếp:  [1, 3, 4, 5, 6, 11, 24, 33, 36, 44, 55, 78, 88]\n"
          ]
        },
        {
          "output_type": "display_data",
          "data": {
            "text/plain": [
              "<Figure size 1440x288 with 1 Axes>"
            ],
            "image/png": "[encoded data removed]"
          },
          "metadata": {
            "needs_background": "light"
          }
        }
      ]
    },
    {
      "cell_type": "markdown",
      "source": [
        " **Cách hoạt động:**\n",
        "\n",
        "Thuật toán Selection Sort chia danh sách cần sắp xếp thành 2 phần: đã được sắp xếp (nằm bên trái) và chưa được sắp xếp (bên phải).\n",
        "\n",
        "Ở mỗi lần lặp, thuật toán tìm phần tử nhỏ nhất của phần chưa sắp xếp để đưa vào cuối phần đã sắp xếp.\n",
        "\n",
        "**Độ phức tạp thời gian:**\n",
        "\n",
        "Thuật toán tìm min n-1 lần. Lần thứ nhất tìm trên dãy có n phần tử, lần thứ hai trên n-1 phần tử, lần thứ ba trên n-2 phần tử,...\n",
        "\n",
        "Bỏ qua các lệnh gán và swap (do mỗi lệnh có độ phức tạp O(1)), ta có thể tính xấp xỉ số câu lệnh thuật toán cần thực hiện là:\n",
        "n+(n−1)+(n−2)+...+3+2=(n+2)(n−1)2=n2+n−22 \n",
        "\n",
        "Do đó, thuật toán Selection Sort có độ phức tạp về thời gian là O(n2)\n",
        "\n",
        "**Độ phức tạp không gian:**\n",
        "\n",
        "Thuật toán có độ phức tạp về không gian là O(n) để lưu trữ danh sách cần sắp xếp."
      ],
      "metadata": {
        "id": "0BC4JRRftd90"
      }
    },
    {
      "cell_type": "markdown",
      "source": [
        "# 2. Bubble Sort\n",
        "\n",
        "**Bài toán**: Bubble Sort (sắp xếp nổi bọt) cũng xử lý bài toán như Selection Sort, nhưng với cách tiếp cận khác.\n",
        "\n",
        "Bubble Sort sử dụng **cách tiếp cận** sau:\n",
        "- Xét lần lượt các cặp 2 phần tử liên tiếp. Nếu phần tử đứng sau nhỏ hơn phần tử đứng trước, ta đổi chỗ 2 phần tử đó.\n",
        "- Giả sử ta xét các cặp theo thứ tự index (0, 1), (1, 2), (2, 3),... thì sau một lần xét qua dãy, phần tử có giá trị lớn nhất sẽ nằm ở cuối dãy.\n",
        "- Như vậy, lúc này dãy cần sắp xếp cũng được chia thành 2 phần: đã được sắp xếp (nằm bên phải) và chưa được sắp xếp (bên trái). Ta tiếp tục thực hiện việc xét các cặp ở phần chưa được sắp xếp để đưa phần tử lớn nhất vào phần đã được sắp xếp.  \n",
        "\n",
        "Bubble Sort có tên như vậy vì sau mỗi lượt xét các cặp ở phần chưa được sắp xếp, một phần tử sẽ \"nổi lên\" ở phần đã được sắp xếp. Ngoài ra, Bubble Sort còn có tên là Sinking Sort (chìm xuống)."
      ],
      "metadata": {
        "id": "-Uu93Py2uGAL"
      }
    },
    {
      "cell_type": "code",
      "source": [
        "def bubble_sort(arr):\n",
        "    for i in range(len(arr)-1, 0, -1):  # i is the index between the sorted and unsorted part\n",
        "        for j in range(i):              # loop j through the pairs in the unsorted part\n",
        "            if arr[j] > arr[j+1]:\n",
        "              arr[j], arr[j+1] = arr[j+1], arr[j]\n"
      ],
      "metadata": {
        "id": "X5O-daV-uKVz"
      },
      "execution_count": 25,
      "outputs": []
    },
    {
      "cell_type": "code",
      "source": [
        "num_list=[1,6,3,4,5,11,24,33,88,36,44,55,78]\n",
        "bubble_sort(num_list)\n",
        "\n",
        "\n",
        "print(\"Sau khi sắp xếp:  {}\".format(num_list))\n",
        "show_list(num_list, title='Dãy sau sắp xếp')"
      ],
      "metadata": {
        "id": "PRD-z0_yumIb",
        "colab": {
          "base_uri": "https://localhost:8080/",
          "height": 313
        },
        "outputId": "d089f55e-8bec-43d4-8024-dae2703ebaa6"
      },
      "execution_count": 26,
      "outputs": [
        {
          "output_type": "stream",
          "name": "stdout",
          "text": [
            "Sau khi sắp xếp:  [1, 3, 4, 5, 6, 11, 24, 33, 36, 44, 55, 78, 88]\n"
          ]
        },
        {
          "output_type": "display_data",
          "data": {
            "text/plain": [
              "<Figure size 1440x288 with 1 Axes>"
            ],
            "image/png": "[encoded data removed]"
          },
          "metadata": {
            "needs_background": "light"
          }
        }
      ]
    },
    {
      "cell_type": "markdown",
      "source": [
        "**Độ phức tạp thời gian**:\n",
        "- Thuật toán Bubble Sort chạy vòng lặp trên biến i *n-1* lần. Lần thứ nhất kiểm tra *n-1* cặp số, lần thứ hai kiểm tra *n-2* cặp, lần thứ ba *n-3* cặp,...\n",
        "- Bỏ qua các lệnh gán và swap, ta có thể tính xấp xỉ số câu lệnh thuật toán cần thực hiện là: \\begin{equation} (n-1) + (n-2) + ... + 2 + 1 = \\frac{n(n-1)}{2} = \\frac{n^2-n}{2} \\end{equation}\n",
        "- Do đó, thuật toán Bubble Sort có độ phức tạp về thời gian là *O(n<sup>2</sup>)*  \n",
        "\n",
        "\n",
        "**Độ phức tạp không gian**:\n",
        "- Thuật toán có độ phức tạp về không gian là *O(n)* để lưu trữ danh sách cần sắp xếp."
      ],
      "metadata": {
        "id": "M_FUv-BdugG_"
      }
    },
    {
      "cell_type": "markdown",
      "source": [
        "# **3. Insertion Sort**\n",
        "Bài toán: Insertion Sort (sắp xếp chèn) cũng là một cách tiếp cận khác của thuật toán sắp xếp.\n",
        "\n",
        "Insertion Sort sử dụng cách tiếp cận sau:\n",
        "\n",
        "Insertion sort cũng chia danh sách dữ liệu thành 2 phần: phần đã được sắp xếp nằm bên trái và chưa được sắp xếp nằm bên phải.\n",
        "\n",
        "Giả sử ta đã sắp xếp xong i phần tử của dãy. Ta tiếp tục sắp xếp bằng cách tìm vị trí phù hợp của phần tử thứ i+1 và \"chèn\" nó vào đó.\n",
        "\n",
        "Ta bắt đầu thuật toán bằng cách xem phần đã được sắp xếp là dãy gồm một phần tử đầu tiên, sau đó thực hiện chèn phần tử thứ 2, 3, 4,... vào dãy đã sắp xếp."
      ],
      "metadata": {
        "id": "IL7eHnlnurGY"
      }
    },
    {
      "cell_type": "code",
      "source": [
        "def insertion_sort(arr):\n",
        "    for i in range(1, len(arr)):  d\n",
        "        j = i\n",
        "        while j > 0 and arr[j] < arr[j-1]: \n",
        "            arr[j], arr[j-1] = arr[j-1], arr[j]\n",
        "            j -= 1"
      ],
      "metadata": {
        "id": "THn0xURPu0R4"
      },
      "execution_count": 27,
      "outputs": []
    },
    {
      "cell_type": "code",
      "source": [
        "num_list=[1,6,3,4,5,11,24,33,88,36,44,55,78]\n",
        "insertion_sort(num_list)\n",
        "\n",
        "\n",
        "print(\"Sau khi sắp xếp:  {}\".format(num_list))\n",
        "show_list(num_list, title='Dãy sau sắp xếp')"
      ],
      "metadata": {
        "id": "OdupflrDu3W5",
        "colab": {
          "base_uri": "https://localhost:8080/",
          "height": 313
        },
        "outputId": "2b215d68-dab1-4560-fddd-a33a0d7798f3"
      },
      "execution_count": 28,
      "outputs": [
        {
          "output_type": "stream",
          "name": "stdout",
          "text": [
            "Sau khi sắp xếp:  [1, 3, 4, 5, 6, 11, 24, 33, 36, 44, 55, 78, 88]\n"
          ]
        },
        {
          "output_type": "display_data",
          "data": {
            "text/plain": [
              "<Figure size 1440x288 with 1 Axes>"
            ],
            "image/png": "[encoded data removed]"
          },
          "metadata": {
            "needs_background": "light"
          }
        }
      ]
    }
  ]
}