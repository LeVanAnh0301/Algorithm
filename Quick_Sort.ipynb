{
  "nbformat": 4,
  "nbformat_minor": 0,
  "metadata": {
    "colab": {
      "name": "Quick Sort.ipynb",
      "provenance": [],
      "authorship_tag": "ABX9TyO5nmGhXn7j9Edok1//77z1",
      "include_colab_link": true
    },
    "kernelspec": {
      "name": "python3",
      "display_name": "Python 3"
    },
    "language_info": {
      "name": "python"
    }
  },
  "cells": [
    {
      "cell_type": "markdown",
      "metadata": {
        "id": "view-in-github",
        "colab_type": "text"
      },
      "source": [
        "<a href=\"https://colab.research.google.com/github/LeVanAnh0301/Algorithm/blob/main/Quick_Sort.ipynb\" target=\"_parent\"><img src=\"https://colab.research.google.com/assets/colab-badge.svg\" alt=\"Open In Colab\"/></a>"
      ]
    },
    {
      "cell_type": "markdown",
      "source": [
        "# ***Quick Sort***:\n",
        "\n",
        "---\n",
        "\n",
        "\n",
        "Tương tự như Merge Sort , Quick Sort là một thuật toán chia để trị ( divide and conquer). \n",
        " \n",
        "Nó chia dãy các phần tử bằng 1 phần tử chốt. Ở đây chúng ta sẽ gọi phần tử đó là pivot. \n",
        "\n",
        "\n",
        "# *   Câu hỏi đặt ra là làm sao để chọn pivot.Có một số cách như sau:\n",
        "1. Chọn phần tử đầu tiên.\n",
        "2. Chọn phần tử cuối cùng của dãy.\n",
        "3. Chọn phần tử bất kì trong dãy (random)\n",
        "4. Chọn phần tử có giá trị gần bằng giá trị trung bình của dãy.(median element)\n",
        "\n",
        "# *   Quy trình các bước của thuật toán Quick Sort\n",
        " Bước 1:Chọn phần tử chốt pivot. \n",
        "\n",
        " Bước 2:Chia mảng theo pivot. \n",
        "\n",
        " Bước 3:Sử dụng sắp xếp nhanh một cách đệ qui với mảng con bên trái. \n",
        "  \n",
        " Bước 4: Sử dụng sắp xếp nhanh một cách đệ qui với mảng con bên phải. \n",
        "\n",
        "# *   Hàm phân đoạn Partition. vì sao mà phân đoạn quan trọng trong thuật QuickSort?\n",
        "Mấu chốt của thuật toán QuickSort là việc phân đoạn các dãy số. \n",
        "\n",
        "Việc này sẽ được thực hiện thông qua hàm phân đoạn \n",
        "\n",
        "\n",
        " \n",
        "\n"
      ],
      "metadata": {
        "id": "UdbcUNp2Y1O0"
      }
    },
    {
      "cell_type": "code",
      "source": [
        "#Đây là cách sử dụng đệ quy \n",
        "def Quicksort(arr):\n",
        "  if len(arr)<2:\n",
        "    return arr\n",
        "  else:\n",
        "    k=arr[0] # chọn phần tử pivot là phần tử đầu tiên \n",
        "    # chuỗi bên trái phần tử pivot\n",
        "    Left=[i for i in arr[1:] if i<=k]\n",
        "    #Chuỗi bên phải \n",
        "    Right= [i for i in arr[1:] if i> k]\n",
        "    return Quicksort(Left)+[k]+Quicksort(Right)\n",
        "# Nhập ví dụ vào chạy chương trình \n",
        "m = [10,5,20,100,80,8,11,79]\n",
        "print(Quicksort(m))\n",
        "\n"
      ],
      "metadata": {
        "id": "ShDLHd5kdCo3",
        "colab": {
          "base_uri": "https://localhost:8080/"
        },
        "outputId": "b0363e4b-cae6-4c34-fb5e-1816ab6b8a4a"
      },
      "execution_count": null,
      "outputs": [
        {
          "output_type": "stream",
          "name": "stdout",
          "text": [
            "[5, 8, 10, 11, 20, 79, 80, 100]\n"
          ]
        }
      ]
    }
  ]
}